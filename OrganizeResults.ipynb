{
 "cells": [
  {
   "cell_type": "code",
   "execution_count": 1,
   "id": "763a9479-99ee-4894-8798-3a4274978131",
   "metadata": {},
   "outputs": [
    {
     "ename": "SyntaxError",
     "evalue": "'(' was never closed (2913347634.py, line 13)",
     "output_type": "error",
     "traceback": [
      "\u001b[1;36m  Cell \u001b[1;32mIn[1], line 13\u001b[1;36m\u001b[0m\n\u001b[1;33m    response = client.models.generate_content(\u001b[0m\n\u001b[1;37m                                             ^\u001b[0m\n\u001b[1;31mSyntaxError\u001b[0m\u001b[1;31m:\u001b[0m '(' was never closed\n"
     ]
    }
   ],
   "source": [
    "import os\n",
    "import csv\n",
    "from google import genai\n",
    "from google.genai import types\n",
    "client = genai.Client(api_key=\"\")\n",
    "# 指定 txt 文件所在的目录和输出的 csv 文件路径\n",
    "input_directory = './destination_folder_running'\n",
    "output_csv_file = './output_final2.csv'\n",
    "log_file = './processing_errors.log'\n",
    "\n",
    "\n",
    "def extract_with_model(text_content):\n",
    "    response = client.models.generate_content(\n",
    "        model=\"gemini-2.5-flash-preview-05-20\",\n",
    "        config=types.GenerateContentConfig(system_instruction='''你将分析一篇关于金属有机框架材料（MOFs）对以下五种化合物吸附性能的科技报告：\n",
    "\n",
    "isoprene\n",
    "cis-2-pentene\n",
    "1-pentene\n",
    "trans-2-pentene\n",
    "n-pentane\n",
    "\n",
    "请根据报告内容判断每种化合物是否能被该 MOFs 材料吸附。如果报告中提到了具体的 MOF 材料名称，请将其作为第一个元素，随后依次用 \"Can Adsorb\" 或 \"Cannot Adsorb\" 表示对每种化合物的吸附能力。\n",
    "\n",
    "请严格按照isoprene、cis-2-pentene、1-pentene、trans-2-pentene、n-pentane的顺序。\n",
    "输出格式应为一个纯文本列表，不包含表头或其他解释性内容，例如：\n",
    "\n",
    "MOF-123 | Can Adsorb | Cannot Adsorb | Cannot Adsorb | Can Adsorb | Cannot Adsorb\n",
    "\n",
    "如果你未在报告中找到某种化合物的相关信息，请使用 \"Not Mentioned\" 代替。''',\n",
    "        contents=s))\n",
    "       \n",
    "    print(response.text.split(\"|\"))\n",
    "    return response.text.split(\"|\")\n",
    "\n",
    "def log_error(filename, error_message):\n",
    "    with open(log_file, 'a', encoding='utf-8') as log:\n",
    "        timestamp = datetime.now().strftime('%Y-%m-%d %H:%M:%S')\n",
    "        log.write(f'[{timestamp}] Error processing file: {filename}\\n')\n",
    "        log.write(f'Error message: {error_message}\\n')\n",
    "        log.write('-' * 60 + '\\n')\n",
    "        \n",
    "def read_txt_files(directory):\n",
    "    all_rows = []\n",
    "\n",
    "    for filename in os.listdir(directory):\n",
    "        if filename.endswith('.txt'):\n",
    "            file_path = os.path.join(directory, filename)\n",
    "            try:\n",
    "                with open(file_path, 'r', encoding='utf-8') as file:\n",
    "                    content = file.read()\n",
    "                    print(f'Processing {filename}...')\n",
    "\n",
    "                    extracted_row = extract_with_model(content)\n",
    "                    extracted_row.append(filename)  # 添加文件名到末尾\n",
    "                    all_rows.append(extracted_row)\n",
    "\n",
    "            except Exception as e:\n",
    "                print(f'Failed to process {filename}: {e}')\n",
    "                log_error(filename, str(e))\n",
    "\n",
    "    return all_rows\n",
    "\n",
    "def write_to_csv(data, output_file):\n",
    "    with open(output_file, mode='w', newline='', encoding='utf-8') as file:\n",
    "        writer = csv.writer(file)\n",
    "        # 写入表头，根据实际提炼的数据结构调整\n",
    "        writer.writerow(['MOFs name', 'isoprene', 'cis-2-pentene', '1-pentene', 'trans-2-pentene', 'n-pentane', 'filename'])  # 修改这里以适应你的数据结构\n",
    "        writer.writerows(data)\n",
    "\n",
    "\n",
    "if __name__ == '__main__':\n",
    "    extracted_data = read_txt_files(input_directory)\n",
    "    write_to_csv(extracted_data, output_csv_file)\n",
    "    print(f'处理完成，结果已写入 {output_csv_file}')"
   ]
  }
 ],
 "metadata": {
  "kernelspec": {
   "display_name": "Python 3 (ipykernel)",
   "language": "python",
   "name": "python3"
  },
  "language_info": {
   "codemirror_mode": {
    "name": "ipython",
    "version": 3
   },
   "file_extension": ".py",
   "mimetype": "text/x-python",
   "name": "python",
   "nbconvert_exporter": "python",
   "pygments_lexer": "ipython3",
   "version": "3.12.3"
  }
 },
 "nbformat": 4,
 "nbformat_minor": 5
}
