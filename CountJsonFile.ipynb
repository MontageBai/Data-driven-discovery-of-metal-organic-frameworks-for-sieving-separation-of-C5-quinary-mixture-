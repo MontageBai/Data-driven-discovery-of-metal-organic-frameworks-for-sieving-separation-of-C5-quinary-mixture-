{
 "cells": [
  {
   "cell_type": "code",
   "execution_count": 2,
   "id": "763a9479-99ee-4894-8798-3a4274978131",
   "metadata": {},
   "outputs": [
    {
     "name": "stdout",
     "output_type": "stream",
     "text": [
      "警告: 文件 '10.1002-adma.202500310.json' 的根元素不是一个列表，跳过统计。\n",
      "警告: 文件 '10.1002_cjoc.70149.json' 的根元素不是一个列表，跳过统计。\n",
      "警告: 文件 '10.1016_j.trac.2023.117409.json' 的根元素不是一个列表，跳过统计。\n",
      "警告: 文件 '10.1039-d0dt04276e_1747625499254894_huangfu2021.json' 的根元素不是一个列表，跳过统计。\n",
      "所有JSON文件中总共有 2070 个字典。\n"
     ]
    }
   ],
   "source": [
    "import json\n",
    "import os\n",
    "\n",
    "total_dictionaries = 0\n",
    "json_file_directory = \"./Information Json\" # 请替换为实际的目录路径\n",
    "\n",
    "# 遍历目录下的所有文件\n",
    "for filename in os.listdir(json_file_directory):\n",
    "    if filename.endswith(\".json\"): # 确保只处理JSON文件\n",
    "        filepath = os.path.join(json_file_directory, filename)\n",
    "        try:\n",
    "            with open(filepath, 'r', encoding='utf-8') as f:\n",
    "                data = json.load(f) # 解析JSON文件\n",
    "                if isinstance(data, list): # 确保解析出来的是一个列表\n",
    "                    total_dictionaries += len(data) # 累加字典数量\n",
    "                else:\n",
    "                    print(f\"警告: 文件 '{filename}' 的根元素不是一个列表，跳过统计。\")\n",
    "        except json.JSONDecodeError:\n",
    "            print(f\"错误: 文件 '{filename}' 不是一个有效的JSON文件，跳过。\")\n",
    "        except Exception as e:\n",
    "            print(f\"读取文件 '{filename}' 时发生错误: {e}\")\n",
    "\n",
    "print(f\"所有JSON文件中总共有 {total_dictionaries} 个字典。\")"
   ]
  },
  {
   "cell_type": "code",
   "execution_count": 18,
   "id": "212d1cd1",
   "metadata": {},
   "outputs": [
    {
     "name": "stdout",
     "output_type": "stream",
     "text": [
      "共匹配到 0 个 DOI，未匹配 308 个。\n"
     ]
    }
   ],
   "source": [
    "import os\n",
    "import shutil\n",
    "\n",
    "def match_files_by_processed_doi(doi_file_path, source_dir, target_dir, output_file):\n",
    "    matched = []\n",
    "    unmatched = []\n",
    "    short = []\n",
    "    # 创建目标目录\n",
    "    os.makedirs(target_dir, exist_ok=True)\n",
    "\n",
    "\n",
    "\n",
    "    # 读取 DOI 文件\n",
    "    with open(doi_file_path, 'r', encoding='utf-8') as f:\n",
    "        dois = [line.strip() for line in f if line.strip()]\n",
    "\n",
    "    # 处理每一个 DOI\n",
    "    for doi in dois:\n",
    "        # 第一步：用 / 分割，取最后一段\n",
    "        parts_after_slash = doi.split('/')\n",
    "        if len(parts_after_slash) < 2:\n",
    "            unmatched.append(doi)\n",
    "            continue\n",
    "        last_part = parts_after_slash[-1]\n",
    "\n",
    "        # 第二步：对最后一段继续分割，比如取 . 的最后一部分（可选）\n",
    "        id_to_match = last_part.split('.')[-1].strip()\n",
    "        # id_to_match = last_part\n",
    "        if len(id_to_match) < 4:\n",
    "            short.append(doi)\n",
    "        else:\n",
    "            # 尝试匹配文件名（忽略大小写）\n",
    "            found = False\n",
    "            # print(id_to_match)\n",
    "                # 获取所有源文件名（只保留文件）\n",
    "            all_files = [\n",
    "                f for f in os.listdir(source_dir)\n",
    "                if os.path.isfile(os.path.join(source_dir, f))\n",
    "            ]\n",
    "            for filename in all_files:\n",
    "                # print(filename)\n",
    "                if id_to_match.lower() in filename.lower():\n",
    "                    \n",
    "                    # 匹配成功，移动文件\n",
    "                    src = os.path.join(source_dir, filename)\n",
    "                    dst = os.path.join(target_dir, filename)\n",
    "                    shutil.move(src, dst)\n",
    "                    matched.append(doi)\n",
    "                    found = True\n",
    "                    break\n",
    "\n",
    "            if not found:\n",
    "                unmatched.append(doi)\n",
    "\n",
    "    # 写入报告\n",
    "    with open(output_file, 'w', encoding='utf-8') as f:\n",
    "        f.write(\"✅ Matched DOIs:\\n\")\n",
    "        for d in matched:\n",
    "            f.write(f\"{d}\\n\")\n",
    "        f.write(\"\\n❌ Unmatched DOIs:\\n\")\n",
    "        for d in unmatched:\n",
    "            f.write(f\"{d}\\n\")\n",
    "        f.write(\"\\n❌ short DOIs:\\n\")\n",
    "        for d in short:\n",
    "            f.write(f\"{d}\\n\")\n",
    "\n",
    "    print(f\"共匹配到 {len(matched)} 个 DOI，未匹配 {len(unmatched)} 个。\")\n",
    "\n",
    "# 使用函数\n",
    "doi_file_path = \"./screeningdoi2.txt\"\n",
    "source_dir = \"./Information Json\"\n",
    "target_dir = \"./ScreeningCard\"\n",
    "output_file = \"./report.txt\"\n",
    "\n",
    "match_files_by_processed_doi(doi_file_path, source_dir, target_dir, output_file)"
   ]
  }
 ],
 "metadata": {
  "kernelspec": {
   "display_name": "Python 3 (ipykernel)",
   "language": "python",
   "name": "python3"
  },
  "language_info": {
   "codemirror_mode": {
    "name": "ipython",
    "version": 3
   },
   "file_extension": ".py",
   "mimetype": "text/x-python",
   "name": "python",
   "nbconvert_exporter": "python",
   "pygments_lexer": "ipython3",
   "version": "3.12.3"
  }
 },
 "nbformat": 4,
 "nbformat_minor": 5
}
